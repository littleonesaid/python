{
 "cells": [
  {
   "cell_type": "markdown",
   "metadata": {},
   "source": [
    "I have always believe that list comprehension are not a cleaner way of writing a loop the become quite complex at time as compared to normal loop but they are faster. And because they are faster I have spent a lot of time in practicing them during my early days in Python. As mentioned in <B>The Learning Python</B> By <B> Mark Lutz</B>\n",
    "><i>Moreover, depending on your Python and code, list comprehensions might run much faster than manual for loop statements (often roughly twice as fast) because their iterations are performed at C language speed inside the interpreter, rather than with manual Python code. Especially for larger data sets, there is often a major performance advantage to using this expression.</i>\n",
    "\n",
    "I recently  put this theory to test and I was greatly suprised."
   ]
  },
  {
   "cell_type": "markdown",
   "metadata": {},
   "source": [
    "### Problem: "
   ]
  },
  {
   "cell_type": "markdown",
   "metadata": {},
   "source": [
    "Calculate Square of No 1 to 100000"
   ]
  },
  {
   "cell_type": "markdown",
   "metadata": {},
   "source": [
    "### Solutions"
   ]
  },
  {
   "cell_type": "code",
   "execution_count": 1,
   "metadata": {},
   "outputs": [],
   "source": [
    "def square():\n",
    "    return [x**2 for x in range(100000)]"
   ]
  },
  {
   "cell_type": "code",
   "execution_count": 2,
   "metadata": {},
   "outputs": [
    {
     "name": "stdout",
     "output_type": "stream",
     "text": [
      "91.7 ms ± 4.45 ms per loop (mean ± std. dev. of 7 runs, 10 loops each)\n"
     ]
    }
   ],
   "source": [
    "timeit square()"
   ]
  },
  {
   "cell_type": "code",
   "execution_count": 3,
   "metadata": {},
   "outputs": [],
   "source": [
    "def square():\n",
    "    new_list = []\n",
    "    for x in range(100000):\n",
    "        new_list.append(x**2)\n",
    "    return new_list\n"
   ]
  },
  {
   "cell_type": "code",
   "execution_count": 4,
   "metadata": {},
   "outputs": [
    {
     "name": "stdout",
     "output_type": "stream",
     "text": [
      "92.5 ms ± 3.86 ms per loop (mean ± std. dev. of 7 runs, 10 loops each)\n"
     ]
    }
   ],
   "source": [
    "timeit square()"
   ]
  },
  {
   "cell_type": "markdown",
   "metadata": {},
   "source": [
    "Surprise Surprise!. The speed is almost equivalend. Now lets take a slighty complex example"
   ]
  },
  {
   "cell_type": "markdown",
   "metadata": {},
   "source": [
    "### Problem:"
   ]
  },
  {
   "cell_type": "markdown",
   "metadata": {},
   "source": [
    "Get All Prime No from 1 to 100000"
   ]
  },
  {
   "cell_type": "markdown",
   "metadata": {},
   "source": [
    "### Solution:"
   ]
  },
  {
   "cell_type": "code",
   "execution_count": 5,
   "metadata": {},
   "outputs": [],
   "source": [
    "def prime():\n",
    "    return [x for x in range(1, 1000) if all([x%y for y in range(2,x)])]"
   ]
  },
  {
   "cell_type": "code",
   "execution_count": 6,
   "metadata": {},
   "outputs": [
    {
     "name": "stdout",
     "output_type": "stream",
     "text": [
      "79 ms ± 7.75 ms per loop (mean ± std. dev. of 7 runs, 10 loops each)\n"
     ]
    }
   ],
   "source": [
    "timeit prime()"
   ]
  },
  {
   "cell_type": "code",
   "execution_count": 7,
   "metadata": {},
   "outputs": [],
   "source": [
    "def prime():\n",
    "    prime_no = []\n",
    "    for x in range(1, 1000):\n",
    "        result = []\n",
    "        for y in range(2,x):\n",
    "            result.append(x%y)\n",
    "        if all(result):\n",
    "            prime_no.append(x)\n",
    "    return prime_no"
   ]
  },
  {
   "cell_type": "code",
   "execution_count": 8,
   "metadata": {},
   "outputs": [
    {
     "name": "stdout",
     "output_type": "stream",
     "text": [
      "137 ms ± 11 ms per loop (mean ± std. dev. of 7 runs, 10 loops each)\n"
     ]
    }
   ],
   "source": [
    "timeit prime()"
   ]
  },
  {
   "cell_type": "markdown",
   "metadata": {},
   "source": [
    "Its slightly faster in this case. So for single `for` loop there is not much improvement in terms if speed. If go into more complex scenarios where there are nested loops converting them to list comprehension may give slight performance imporvement but generally it take toll on redability.\n",
    "If you are new to python then I would recommend not to worry too much about comprehensions and jump on to more important topics. Unless you are dealing with very huge and complext data sets comprehension might not be of any use and generally for those complex scenario you may have more suitable approach like `map`, `filter` and `reduce` which are way way faster then these."
   ]
  },
  {
   "cell_type": "markdown",
   "metadata": {},
   "source": [
    "#### ***Note:***"
   ]
  },
  {
   "cell_type": "markdown",
   "metadata": {},
   "source": [
    "I am no way questiong **Mark Lutz** as either the things might have been different on earlier versions of python or his data sets might be different but my observation on **Python 3.7** is list comprehensions are faster but not significantly faster then regular for loops."
   ]
  },
  {
   "cell_type": "markdown",
   "metadata": {},
   "source": []
  },
  {
   "cell_type": "code",
   "execution_count": null,
   "metadata": {},
   "outputs": [],
   "source": []
  }
 ],
 "metadata": {
  "kernelspec": {
   "display_name": "Python 3",
   "language": "python",
   "name": "python3"
  },
  "language_info": {
   "codemirror_mode": {
    "name": "ipython",
    "version": 3
   },
   "file_extension": ".py",
   "mimetype": "text/x-python",
   "name": "python",
   "nbconvert_exporter": "python",
   "pygments_lexer": "ipython3",
   "version": "3.7.3"
  }
 },
 "nbformat": 4,
 "nbformat_minor": 2
}
