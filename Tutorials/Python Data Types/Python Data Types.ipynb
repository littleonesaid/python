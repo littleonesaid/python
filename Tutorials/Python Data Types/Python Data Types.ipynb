{
 "cells": [
  {
   "cell_type": "markdown",
   "metadata": {},
   "source": [
    "# Python Variable and Literals"
   ]
  },
  {
   "cell_type": "markdown",
   "metadata": {},
   "source": [
    "The data give to vriable can be thought of litterals\n",
    "`foo = 'Sample'`\n",
    "Here `foo` is Variable and `Sample` is string literal. Similarly in\n",
    "`bar = 2` here `bar` is variable and `2` is numeric literal.\n",
    "\n",
    "Python is Dynamically Typed Language. That means\n",
    " - Variables need not to be declared before use.\n",
    " - Variables are not bind to type"
   ]
  },
  {
   "cell_type": "code",
   "execution_count": 1,
   "metadata": {},
   "outputs": [],
   "source": [
    "foo = 5\n",
    "foo = 'bar'"
   ]
  },
  {
   "cell_type": "markdown",
   "metadata": {},
   "source": [
    "Above statements are valid. Note that we have not declare variable `foo` like `int foo` or `var foo`. Also first `foo` was holding number 5 and now it holds string `bar`."
   ]
  },
  {
   "cell_type": "markdown",
   "metadata": {},
   "source": [
    "## Variable holds reference not actual value"
   ]
  },
  {
   "cell_type": "markdown",
   "metadata": {},
   "source": [
    "For `a=5` what actually happens is python creates a memory block and then variable `a` contains reference to that memory block.\n",
    "variables can be think of as a Pointers in C.\n",
    "<img src=\"images/1.png\" alt=\"Variable Reference\" width=\"400\"/>\n",
    "If we do `a=bar` then python creates a new memeory block and a starts refering to that.\n",
    "<img src=\"images/2.png\" alt=\"Variable Reference\" width=\"400\"/>"
   ]
  },
  {
   "cell_type": "markdown",
   "metadata": {},
   "source": [
    "Memory blocks which are not refered by anything are collected by Garbage Collector"
   ]
  },
  {
   "cell_type": "code",
   "execution_count": 2,
   "metadata": {},
   "outputs": [],
   "source": [
    "a = 5\n",
    "b = 5\n",
    "c = a"
   ]
  },
  {
   "cell_type": "markdown",
   "metadata": {},
   "source": [
    "In above case all variables points to the same Memory location\n",
    "<img src=\"images/3.png\" alt=\"Variable Reference\" width=\"400\"/>\n",
    "Note: `b` points to the same location as `a` because of object caching in python. Its an iterpreter specific implementation to optimize the memory and not applicable to all data types. As a user we dont have too much to worry about this"
   ]
  },
  {
   "cell_type": "code",
   "execution_count": 3,
   "metadata": {},
   "outputs": [],
   "source": [
    "c = 6"
   ]
  },
  {
   "cell_type": "markdown",
   "metadata": {},
   "source": [
    "Now `c` ponts to the new location. Note that `=` will always create new reference. And `a` and `b` continue to post on the older location\n",
    "<img src=\"images/4.png\" alt=\"Variable Reference\" width=\"400\"/>"
   ]
  },
  {
   "cell_type": "markdown",
   "metadata": {},
   "source": [
    "## Mutable Vs Immutable data types"
   ]
  },
  {
   "cell_type": "markdown",
   "metadata": {},
   "source": [
    "By defination \n",
    " > Mutable variables/objects are those whose values, properties can be changes after creation. If cannot then they are known as immutabe data types.\n",
    " \n",
    "The defination is applicable to memory block. Variable reference can be changed at any time. `Numbers` are immutable but still we were able to change the value of `c`. Suppose if were allowe to change the value of `c` in place without creating a new reference then all `a`, `b`, `c` would have the same value as they would be pointing to same memory block.\n",
    "\n",
    "Note: Mutable or Immuatable assignment always create a new reference. `List` is example of mutable data type. We will discuss list in detals in latest sections but now we will use it to understand mutable data types and its effects\n",
    "<img src=\"images/5.gif\" alt=\"Mutable vs Immutable\" width=\"400\"/>\n",
    "Notice that now the referece is not changing, we are changing the value at the memory location so any change in variable `a` is reflected in variable `b` as well, though this is useful in many scenarios but one should be careful regarding because it may cause unwanted side effects.\n",
    "We will see more example of this when we will talk about different data types in details later on\n"
   ]
  },
  {
   "cell_type": "markdown",
   "metadata": {},
   "source": [
    "##  Collection vs Scalar"
   ]
  },
  {
   "cell_type": "markdown",
   "metadata": {},
   "source": [
    "Scalar are objects holds value which cannot be further broken down. E.g Numbers, Strings, bytes etc\n",
    "Collection are Objects which hold other scalar objects. e.g list, tuples, dictionaries etc."
   ]
  },
  {
   "cell_type": "markdown",
   "metadata": {},
   "source": [
    "## Ordered vs Unordered Collections"
   ]
  },
  {
   "cell_type": "markdown",
   "metadata": {},
   "source": [
    "Ordered collections are where the elements are stored in sequntial ordered and can be accessed via positional index. E.g `list` and `tuple`\n",
    "<img src=\"images/6.png\" alt=\"Ordered Collections\" width=\"400\"/>\n",
    "Unordered Collections like `dict`, `namedtuples` are not stored in determined sequence. They are like hashmaps and can only be accessed via keys.\n",
    "<img src=\"images/7.png\" alt=\"Ordered Collections\" width=\"400\"/>"
   ]
  },
  {
   "cell_type": "code",
   "execution_count": 4,
   "metadata": {},
   "outputs": [
    {
     "data": {
      "text/plain": [
       "1"
      ]
     },
     "execution_count": 4,
     "metadata": {},
     "output_type": "execute_result"
    }
   ],
   "source": [
    "a_list = [1,2,4]\n",
    "a_list[0]"
   ]
  },
  {
   "cell_type": "code",
   "execution_count": 5,
   "metadata": {},
   "outputs": [
    {
     "ename": "KeyError",
     "evalue": "0",
     "output_type": "error",
     "traceback": [
      "\u001b[1;31m---------------------------------------------------------------------------\u001b[0m",
      "\u001b[1;31mKeyError\u001b[0m                                  Traceback (most recent call last)",
      "\u001b[1;32m<ipython-input-5-2e0945670c02>\u001b[0m in \u001b[0;36m<module>\u001b[1;34m\u001b[0m\n\u001b[0;32m      1\u001b[0m \u001b[0ma_dict\u001b[0m \u001b[1;33m=\u001b[0m \u001b[1;33m{\u001b[0m\u001b[1;34m'a'\u001b[0m\u001b[1;33m:\u001b[0m \u001b[1;36m1\u001b[0m\u001b[1;33m,\u001b[0m \u001b[1;34m'b'\u001b[0m\u001b[1;33m:\u001b[0m \u001b[1;36m3\u001b[0m\u001b[1;33m}\u001b[0m\u001b[1;33m\u001b[0m\u001b[1;33m\u001b[0m\u001b[0m\n\u001b[1;32m----> 2\u001b[1;33m \u001b[0ma_dict\u001b[0m\u001b[1;33m[\u001b[0m\u001b[1;36m0\u001b[0m\u001b[1;33m]\u001b[0m\u001b[1;33m\u001b[0m\u001b[1;33m\u001b[0m\u001b[0m\n\u001b[0m",
      "\u001b[1;31mKeyError\u001b[0m: 0"
     ]
    }
   ],
   "source": [
    "a_dict = {'a': 1, 'b': 3}\n",
    "a_dict[0]"
   ]
  },
  {
   "cell_type": "code",
   "execution_count": null,
   "metadata": {},
   "outputs": [],
   "source": [
    "a_dict['a']"
   ]
  },
  {
   "cell_type": "markdown",
   "metadata": {},
   "source": [
    "## Singular Vs Sequence"
   ]
  },
  {
   "cell_type": "markdown",
   "metadata": {},
   "source": [
    "Scalar data types can be classified in singular like `numbers` OR squence like `string` and `bytes`. Sequence are ordered and can be accssed via numeric indexes like ordered collections"
   ]
  },
  {
   "cell_type": "code",
   "execution_count": null,
   "metadata": {},
   "outputs": [],
   "source": [
    "a_str = \"abcd\"\n",
    "a_str[0]"
   ]
  },
  {
   "cell_type": "code",
   "execution_count": null,
   "metadata": {},
   "outputs": [],
   "source": []
  }
 ],
 "metadata": {
  "kernelspec": {
   "display_name": "Python 3",
   "language": "python",
   "name": "python3"
  },
  "language_info": {
   "codemirror_mode": {
    "name": "ipython",
    "version": 3
   },
   "file_extension": ".py",
   "mimetype": "text/x-python",
   "name": "python",
   "nbconvert_exporter": "python",
   "pygments_lexer": "ipython3",
   "version": "3.7.3"
  }
 },
 "nbformat": 4,
 "nbformat_minor": 2
}
